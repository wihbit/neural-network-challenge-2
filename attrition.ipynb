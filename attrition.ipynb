{
  "cells": [
    {
      "cell_type": "markdown",
      "metadata": {
        "id": "alIIEHibGc3M"
      },
      "source": [
        "## Part 1: Preprocessing"
      ]
    },
    {
      "cell_type": "code",
      "execution_count": 136,
      "metadata": {
        "colab": {
          "base_uri": "https://localhost:8080/",
          "height": 325
        },
        "id": "6eDUJ4NtGc3P",
        "outputId": "2480098c-135c-4cbf-9552-018494ee8ff5"
      },
      "outputs": [
        {
          "data": {
            "text/html": [
              "<div>\n",
              "<style scoped>\n",
              "    .dataframe tbody tr th:only-of-type {\n",
              "        vertical-align: middle;\n",
              "    }\n",
              "\n",
              "    .dataframe tbody tr th {\n",
              "        vertical-align: top;\n",
              "    }\n",
              "\n",
              "    .dataframe thead th {\n",
              "        text-align: right;\n",
              "    }\n",
              "</style>\n",
              "<table border=\"1\" class=\"dataframe\">\n",
              "  <thead>\n",
              "    <tr style=\"text-align: right;\">\n",
              "      <th></th>\n",
              "      <th>Age</th>\n",
              "      <th>Attrition</th>\n",
              "      <th>BusinessTravel</th>\n",
              "      <th>Department</th>\n",
              "      <th>DistanceFromHome</th>\n",
              "      <th>Education</th>\n",
              "      <th>EducationField</th>\n",
              "      <th>EnvironmentSatisfaction</th>\n",
              "      <th>HourlyRate</th>\n",
              "      <th>JobInvolvement</th>\n",
              "      <th>...</th>\n",
              "      <th>PerformanceRating</th>\n",
              "      <th>RelationshipSatisfaction</th>\n",
              "      <th>StockOptionLevel</th>\n",
              "      <th>TotalWorkingYears</th>\n",
              "      <th>TrainingTimesLastYear</th>\n",
              "      <th>WorkLifeBalance</th>\n",
              "      <th>YearsAtCompany</th>\n",
              "      <th>YearsInCurrentRole</th>\n",
              "      <th>YearsSinceLastPromotion</th>\n",
              "      <th>YearsWithCurrManager</th>\n",
              "    </tr>\n",
              "  </thead>\n",
              "  <tbody>\n",
              "    <tr>\n",
              "      <th>0</th>\n",
              "      <td>41</td>\n",
              "      <td>Yes</td>\n",
              "      <td>Travel_Rarely</td>\n",
              "      <td>Sales</td>\n",
              "      <td>1</td>\n",
              "      <td>2</td>\n",
              "      <td>Life Sciences</td>\n",
              "      <td>2</td>\n",
              "      <td>94</td>\n",
              "      <td>3</td>\n",
              "      <td>...</td>\n",
              "      <td>3</td>\n",
              "      <td>1</td>\n",
              "      <td>0</td>\n",
              "      <td>8</td>\n",
              "      <td>0</td>\n",
              "      <td>1</td>\n",
              "      <td>6</td>\n",
              "      <td>4</td>\n",
              "      <td>0</td>\n",
              "      <td>5</td>\n",
              "    </tr>\n",
              "    <tr>\n",
              "      <th>1</th>\n",
              "      <td>49</td>\n",
              "      <td>No</td>\n",
              "      <td>Travel_Frequently</td>\n",
              "      <td>Research &amp; Development</td>\n",
              "      <td>8</td>\n",
              "      <td>1</td>\n",
              "      <td>Life Sciences</td>\n",
              "      <td>3</td>\n",
              "      <td>61</td>\n",
              "      <td>2</td>\n",
              "      <td>...</td>\n",
              "      <td>4</td>\n",
              "      <td>4</td>\n",
              "      <td>1</td>\n",
              "      <td>10</td>\n",
              "      <td>3</td>\n",
              "      <td>3</td>\n",
              "      <td>10</td>\n",
              "      <td>7</td>\n",
              "      <td>1</td>\n",
              "      <td>7</td>\n",
              "    </tr>\n",
              "    <tr>\n",
              "      <th>2</th>\n",
              "      <td>37</td>\n",
              "      <td>Yes</td>\n",
              "      <td>Travel_Rarely</td>\n",
              "      <td>Research &amp; Development</td>\n",
              "      <td>2</td>\n",
              "      <td>2</td>\n",
              "      <td>Other</td>\n",
              "      <td>4</td>\n",
              "      <td>92</td>\n",
              "      <td>2</td>\n",
              "      <td>...</td>\n",
              "      <td>3</td>\n",
              "      <td>2</td>\n",
              "      <td>0</td>\n",
              "      <td>7</td>\n",
              "      <td>3</td>\n",
              "      <td>3</td>\n",
              "      <td>0</td>\n",
              "      <td>0</td>\n",
              "      <td>0</td>\n",
              "      <td>0</td>\n",
              "    </tr>\n",
              "    <tr>\n",
              "      <th>3</th>\n",
              "      <td>33</td>\n",
              "      <td>No</td>\n",
              "      <td>Travel_Frequently</td>\n",
              "      <td>Research &amp; Development</td>\n",
              "      <td>3</td>\n",
              "      <td>4</td>\n",
              "      <td>Life Sciences</td>\n",
              "      <td>4</td>\n",
              "      <td>56</td>\n",
              "      <td>3</td>\n",
              "      <td>...</td>\n",
              "      <td>3</td>\n",
              "      <td>3</td>\n",
              "      <td>0</td>\n",
              "      <td>8</td>\n",
              "      <td>3</td>\n",
              "      <td>3</td>\n",
              "      <td>8</td>\n",
              "      <td>7</td>\n",
              "      <td>3</td>\n",
              "      <td>0</td>\n",
              "    </tr>\n",
              "    <tr>\n",
              "      <th>4</th>\n",
              "      <td>27</td>\n",
              "      <td>No</td>\n",
              "      <td>Travel_Rarely</td>\n",
              "      <td>Research &amp; Development</td>\n",
              "      <td>2</td>\n",
              "      <td>1</td>\n",
              "      <td>Medical</td>\n",
              "      <td>1</td>\n",
              "      <td>40</td>\n",
              "      <td>3</td>\n",
              "      <td>...</td>\n",
              "      <td>3</td>\n",
              "      <td>4</td>\n",
              "      <td>1</td>\n",
              "      <td>6</td>\n",
              "      <td>3</td>\n",
              "      <td>3</td>\n",
              "      <td>2</td>\n",
              "      <td>2</td>\n",
              "      <td>2</td>\n",
              "      <td>2</td>\n",
              "    </tr>\n",
              "  </tbody>\n",
              "</table>\n",
              "<p>5 rows × 27 columns</p>\n",
              "</div>"
            ],
            "text/plain": [
              "   Age Attrition     BusinessTravel              Department  DistanceFromHome  \\\n",
              "0   41       Yes      Travel_Rarely                   Sales                 1   \n",
              "1   49        No  Travel_Frequently  Research & Development                 8   \n",
              "2   37       Yes      Travel_Rarely  Research & Development                 2   \n",
              "3   33        No  Travel_Frequently  Research & Development                 3   \n",
              "4   27        No      Travel_Rarely  Research & Development                 2   \n",
              "\n",
              "   Education EducationField  EnvironmentSatisfaction  HourlyRate  \\\n",
              "0          2  Life Sciences                        2          94   \n",
              "1          1  Life Sciences                        3          61   \n",
              "2          2          Other                        4          92   \n",
              "3          4  Life Sciences                        4          56   \n",
              "4          1        Medical                        1          40   \n",
              "\n",
              "   JobInvolvement  ...  PerformanceRating RelationshipSatisfaction  \\\n",
              "0               3  ...                  3                        1   \n",
              "1               2  ...                  4                        4   \n",
              "2               2  ...                  3                        2   \n",
              "3               3  ...                  3                        3   \n",
              "4               3  ...                  3                        4   \n",
              "\n",
              "   StockOptionLevel TotalWorkingYears  TrainingTimesLastYear WorkLifeBalance  \\\n",
              "0                 0                 8                      0               1   \n",
              "1                 1                10                      3               3   \n",
              "2                 0                 7                      3               3   \n",
              "3                 0                 8                      3               3   \n",
              "4                 1                 6                      3               3   \n",
              "\n",
              "   YearsAtCompany  YearsInCurrentRole  YearsSinceLastPromotion  \\\n",
              "0               6                   4                        0   \n",
              "1              10                   7                        1   \n",
              "2               0                   0                        0   \n",
              "3               8                   7                        3   \n",
              "4               2                   2                        2   \n",
              "\n",
              "   YearsWithCurrManager  \n",
              "0                     5  \n",
              "1                     7  \n",
              "2                     0  \n",
              "3                     0  \n",
              "4                     2  \n",
              "\n",
              "[5 rows x 27 columns]"
            ]
          },
          "execution_count": 136,
          "metadata": {},
          "output_type": "execute_result"
        }
      ],
      "source": [
        "# Import our dependencies\n",
        "from sklearn.model_selection import train_test_split\n",
        "from sklearn.preprocessing import StandardScaler\n",
        "from sklearn.preprocessing import OneHotEncoder\n",
        "import pandas as pd\n",
        "import numpy as np\n",
        "from tensorflow.keras.models import Model\n",
        "from tensorflow.keras import layers\n",
        "\n",
        "#  Import and read the attrition data\n",
        "attrition_df = pd.read_csv('https://static.bc-edx.com/ai/ail-v-1-0/m19/lms/datasets/attrition.csv')\n",
        "attrition_df.head()"
      ]
    },
    {
      "cell_type": "code",
      "execution_count": 181,
      "metadata": {
        "colab": {
          "base_uri": "https://localhost:8080/"
        },
        "id": "g22aQSY4Gc3Q",
        "outputId": "1f5c13c1-b981-4e40-a7ed-dd3fe6f1b81e"
      },
      "outputs": [
        {
          "data": {
            "text/plain": [
              "Age                         43\n",
              "Attrition                    2\n",
              "BusinessTravel               3\n",
              "Department                   3\n",
              "DistanceFromHome            29\n",
              "Education                    5\n",
              "EducationField               6\n",
              "EnvironmentSatisfaction      4\n",
              "HourlyRate                  71\n",
              "JobInvolvement               4\n",
              "JobLevel                     5\n",
              "JobRole                      9\n",
              "JobSatisfaction              4\n",
              "MaritalStatus                3\n",
              "NumCompaniesWorked          10\n",
              "OverTime                     2\n",
              "PercentSalaryHike           15\n",
              "PerformanceRating            2\n",
              "RelationshipSatisfaction     4\n",
              "StockOptionLevel             4\n",
              "TotalWorkingYears           40\n",
              "TrainingTimesLastYear        7\n",
              "WorkLifeBalance              4\n",
              "YearsAtCompany              37\n",
              "YearsInCurrentRole          19\n",
              "YearsSinceLastPromotion     16\n",
              "YearsWithCurrManager        18\n",
              "dtype: int64"
            ]
          },
          "execution_count": 181,
          "metadata": {},
          "output_type": "execute_result"
        }
      ],
      "source": [
        "# Determine the number of unique values in each column.\n",
        "attrition_df.nunique()"
      ]
    },
    {
      "cell_type": "code",
      "execution_count": 182,
      "metadata": {
        "id": "50vMgBEnJbfM"
      },
      "outputs": [],
      "source": [
        "# Create y_df with the Attrition and Department columns\n",
        "y_df = attrition_df[['Attrition', 'Department']]"
      ]
    },
    {
      "cell_type": "code",
      "execution_count": 183,
      "metadata": {
        "colab": {
          "base_uri": "https://localhost:8080/"
        },
        "id": "Virka0zLGc3R",
        "outputId": "dd5aee3a-9458-4ba6-e857-1b234de40915"
      },
      "outputs": [
        {
          "data": {
            "text/plain": [
              "Education                   int64\n",
              "Age                         int64\n",
              "DistanceFromHome            int64\n",
              "JobSatisfaction             int64\n",
              "OverTime                   object\n",
              "StockOptionLevel            int64\n",
              "WorkLifeBalance             int64\n",
              "YearsAtCompany              int64\n",
              "YearsSinceLastPromotion     int64\n",
              "NumCompaniesWorked          int64\n",
              "dtype: object"
            ]
          },
          "execution_count": 183,
          "metadata": {},
          "output_type": "execute_result"
        }
      ],
      "source": [
        "# Create a list of at least 10 column names to use as X data\n",
        "X_cols = [\n",
        "    'Education',\n",
        "    'Age',\n",
        "    'DistanceFromHome',\n",
        "    'JobSatisfaction',\n",
        "    'OverTime',\n",
        "    'StockOptionLevel',\n",
        "    'WorkLifeBalance',\n",
        "    'YearsAtCompany',\n",
        "    'YearsSinceLastPromotion',\n",
        "    'NumCompaniesWorked'\n",
        "]\n",
        "\n",
        "# Create X_df using your selected columns\n",
        "X_df = attrition_df[X_cols]\n",
        "\n",
        "# Show the data types for X_df\n",
        "X_df.dtypes"
      ]
    },
    {
      "cell_type": "code",
      "execution_count": 184,
      "metadata": {
        "id": "KaJfdOGUMHMR"
      },
      "outputs": [],
      "source": [
        "# Split the data into training and testing sets\n",
        "from sklearn.model_selection import train_test_split\n",
        "\n",
        "X_train, X_test, y_train, y_test = train_test_split(X_df, y_df)"
      ]
    },
    {
      "cell_type": "code",
      "execution_count": 185,
      "metadata": {
        "colab": {
          "base_uri": "https://localhost:8080/"
        },
        "id": "NYubUJqiLCSp",
        "outputId": "53f31721-571c-4c94-d13e-25a715749593"
      },
      "outputs": [
        {
          "data": {
            "text/plain": [
              "OverTime\n",
              "0    785\n",
              "1    317\n",
              "Name: count, dtype: int64"
            ]
          },
          "execution_count": 185,
          "metadata": {},
          "output_type": "execute_result"
        }
      ],
      "source": [
        "# Convert your X data to numeric data types however you see fit\n",
        "# Add new code cells as necessary\n",
        "\n",
        "X_train['OverTime'] = X_train['OverTime'].map({'No': 0, 'Yes': 1})\n",
        "X_test['OverTime'] = X_test['OverTime'].map({'No': 0, 'Yes': 1})\n",
        "\n",
        "X_train['OverTime'].value_counts()"
      ]
    },
    {
      "cell_type": "code",
      "execution_count": 186,
      "metadata": {
        "id": "EWA-aIA5Gc3T"
      },
      "outputs": [],
      "source": [
        "# Create a StandardScaler\n",
        "scaler = StandardScaler()\n",
        "\n",
        "# Fit the StandardScaler to the training data\n",
        "scaler.fit(X_train)\n",
        "\n",
        "# Scale the training and testing data\n",
        "X_train_scaled = scaler.transform(X_train)\n",
        "X_test_scaled = scaler.transform(X_test)\n"
      ]
    },
    {
      "cell_type": "code",
      "execution_count": 187,
      "metadata": {
        "colab": {
          "base_uri": "https://localhost:8080/"
        },
        "id": "-z0Mky8vQSz4",
        "outputId": "debefc85-c20b-48f5-f4d9-91eadd65d36a"
      },
      "outputs": [],
      "source": [
        "# Create a OneHotEncoder for the Department column\n",
        "department_encoder = OneHotEncoder(sparse_output=False)\n",
        "\n",
        "# Fit the encoder to the training data\n",
        "department_encoder.fit(y_train[['Department']])\n",
        "\n",
        "# Create two new variables by applying the encoder\n",
        "# to the training and testing data\n",
        "\n",
        "y_train_department = department_encoder.transform(y_train[['Department']])\n",
        "y_test_department = department_encoder.transform(y_test[['Department']])"
      ]
    },
    {
      "cell_type": "code",
      "execution_count": 188,
      "metadata": {
        "colab": {
          "base_uri": "https://localhost:8080/"
        },
        "id": "-G4DSpvFRrk4",
        "outputId": "9842e948-8a55-4b80-8fac-f96714e85589"
      },
      "outputs": [],
      "source": [
        "# Create a OneHotEncoder for the Attrition column\n",
        "attrition_encoder = OneHotEncoder(sparse_output=False, drop='first')\n",
        "\n",
        "# Fit the encoder to the training data\n",
        "attrition_encoder.fit(y_train[['Attrition']])\n",
        "\n",
        "# Create two new variables by applying the encoder\n",
        "# to the training and testing data\n",
        "\n",
        "y_train_attrition = attrition_encoder.transform(y_train[['Attrition']])\n",
        "y_test_attrition = attrition_encoder.transform(y_test[['Attrition']])"
      ]
    },
    {
      "cell_type": "markdown",
      "metadata": {
        "id": "ykNmu_WWGc3T"
      },
      "source": [
        "## Create, Compile, and Train the Model"
      ]
    },
    {
      "cell_type": "code",
      "execution_count": 190,
      "metadata": {
        "id": "WUptZqmSGc3T"
      },
      "outputs": [],
      "source": [
        "# Find the number of columns in the X training data\n",
        "input_nodes = len(X_train.columns)\n",
        "\n",
        "# Create the input layer\n",
        "input_layer = layers.Input(shape=(input_nodes,), name='input_layer')\n",
        "\n",
        "\n",
        "# Create at least two shared layers\n",
        "shared_layer1 = layers.Dense(64, activation='relu', name='shared1')(input_layer)\n",
        "shared_layer2 = layers.Dense(128, activation='relu', name='shared2')(shared_layer1)"
      ]
    },
    {
      "cell_type": "code",
      "execution_count": 191,
      "metadata": {
        "id": "JukjTm2yTEqd"
      },
      "outputs": [],
      "source": [
        "# Create a branch for Department\n",
        "# with a hidden layer and an output layer\n",
        "\n",
        "# Create the hidden layer\n",
        "dept_hidden = layers.Dense(32, activation='relu', name='department_hidden')(shared_layer2)\n",
        "\n",
        "# Create the output layer\n",
        "dept_output = layers.Dense(3, activation='softmax', name='department_output')(dept_hidden)"
      ]
    },
    {
      "cell_type": "code",
      "execution_count": 192,
      "metadata": {
        "id": "9OqhUiOJUBkR"
      },
      "outputs": [],
      "source": [
        "# Create a branch for Attrition\n",
        "# with a hidden layer and an output layer\n",
        "\n",
        "# Create the hidden layer\n",
        "attrition_hidden = layers.Dense(32, activation='relu', name='attrition_hidden')(shared_layer2)\n",
        "\n",
        "# Create the output layer\n",
        "attrition_output = layers.Dense(1, activation='sigmoid', name='attrition_output')(attrition_hidden)"
      ]
    },
    {
      "cell_type": "code",
      "execution_count": 193,
      "metadata": {
        "colab": {
          "base_uri": "https://localhost:8080/"
        },
        "id": "twmuejdxGc3T",
        "outputId": "25096308-b68b-42e4-e4ea-ae82e97c435a"
      },
      "outputs": [
        {
          "name": "stdout",
          "output_type": "stream",
          "text": [
            "Model: \"model_6\"\n",
            "__________________________________________________________________________________________________\n",
            " Layer (type)                   Output Shape         Param #     Connected to                     \n",
            "==================================================================================================\n",
            " input_layer (InputLayer)       [(None, 10)]         0           []                               \n",
            "                                                                                                  \n",
            " shared1 (Dense)                (None, 64)           704         ['input_layer[0][0]']            \n",
            "                                                                                                  \n",
            " shared2 (Dense)                (None, 128)          8320        ['shared1[0][0]']                \n",
            "                                                                                                  \n",
            " department_hidden (Dense)      (None, 32)           4128        ['shared2[0][0]']                \n",
            "                                                                                                  \n",
            " attrition_hidden (Dense)       (None, 32)           4128        ['shared2[0][0]']                \n",
            "                                                                                                  \n",
            " department_output (Dense)      (None, 3)            99          ['department_hidden[0][0]']      \n",
            "                                                                                                  \n",
            " attrition_output (Dense)       (None, 1)            33          ['attrition_hidden[0][0]']       \n",
            "                                                                                                  \n",
            "==================================================================================================\n",
            "Total params: 17,412\n",
            "Trainable params: 17,412\n",
            "Non-trainable params: 0\n",
            "__________________________________________________________________________________________________\n"
          ]
        }
      ],
      "source": [
        "# Create the model\n",
        "model = Model(inputs=input_layer, outputs=[dept_output, attrition_output])\n",
        "\n",
        "# Compile the model\n",
        "model.compile(\n",
        "    optimizer='adam',\n",
        "    loss={\n",
        "        'department_output': 'categorical_crossentropy',\n",
        "        'attrition_output': 'binary_crossentropy'},\n",
        "    metrics=['accuracy'])\n",
        "\n",
        "# Summarize the model\n",
        "model.summary()"
      ]
    },
    {
      "cell_type": "code",
      "execution_count": 194,
      "metadata": {
        "colab": {
          "base_uri": "https://localhost:8080/"
        },
        "id": "c8oGy0dpGc3U",
        "outputId": "cc667d43-28cf-42d4-d719-c2bc02888d30"
      },
      "outputs": [
        {
          "name": "stdout",
          "output_type": "stream",
          "text": [
            "Epoch 1/100\n",
            "35/35 [==============================] - 1s 5ms/step - loss: 1.3646 - department_output_loss: 0.8740 - attrition_output_loss: 0.4905 - department_output_accuracy: 0.6180 - attrition_output_accuracy: 0.8285\n",
            "Epoch 2/100\n",
            "35/35 [==============================] - 0s 4ms/step - loss: 1.2041 - department_output_loss: 0.7767 - attrition_output_loss: 0.4273 - department_output_accuracy: 0.6434 - attrition_output_accuracy: 0.8285\n",
            "Epoch 3/100\n",
            "35/35 [==============================] - 0s 4ms/step - loss: 1.1692 - department_output_loss: 0.7648 - attrition_output_loss: 0.4044 - department_output_accuracy: 0.6497 - attrition_output_accuracy: 0.8312\n",
            "Epoch 4/100\n",
            "35/35 [==============================] - 0s 4ms/step - loss: 1.1501 - department_output_loss: 0.7585 - attrition_output_loss: 0.3916 - department_output_accuracy: 0.6452 - attrition_output_accuracy: 0.8457\n",
            "Epoch 5/100\n",
            "35/35 [==============================] - 0s 4ms/step - loss: 1.1354 - department_output_loss: 0.7503 - attrition_output_loss: 0.3851 - department_output_accuracy: 0.6506 - attrition_output_accuracy: 0.8421\n",
            "Epoch 6/100\n",
            "35/35 [==============================] - 0s 4ms/step - loss: 1.1130 - department_output_loss: 0.7422 - attrition_output_loss: 0.3709 - department_output_accuracy: 0.6525 - attrition_output_accuracy: 0.8512\n",
            "Epoch 7/100\n",
            "35/35 [==============================] - 0s 4ms/step - loss: 1.1031 - department_output_loss: 0.7373 - attrition_output_loss: 0.3658 - department_output_accuracy: 0.6697 - attrition_output_accuracy: 0.8530\n",
            "Epoch 8/100\n",
            "35/35 [==============================] - 0s 4ms/step - loss: 1.0875 - department_output_loss: 0.7241 - attrition_output_loss: 0.3635 - department_output_accuracy: 0.6615 - attrition_output_accuracy: 0.8593\n",
            "Epoch 9/100\n",
            "35/35 [==============================] - 0s 4ms/step - loss: 1.0651 - department_output_loss: 0.7174 - attrition_output_loss: 0.3478 - department_output_accuracy: 0.6706 - attrition_output_accuracy: 0.8593\n",
            "Epoch 10/100\n",
            "35/35 [==============================] - 0s 4ms/step - loss: 1.0518 - department_output_loss: 0.7055 - attrition_output_loss: 0.3463 - department_output_accuracy: 0.6742 - attrition_output_accuracy: 0.8675\n",
            "Epoch 11/100\n",
            "35/35 [==============================] - 0s 4ms/step - loss: 1.0305 - department_output_loss: 0.6978 - attrition_output_loss: 0.3327 - department_output_accuracy: 0.6851 - attrition_output_accuracy: 0.8730\n",
            "Epoch 12/100\n",
            "35/35 [==============================] - 0s 4ms/step - loss: 1.0091 - department_output_loss: 0.6866 - attrition_output_loss: 0.3225 - department_output_accuracy: 0.6878 - attrition_output_accuracy: 0.8721\n",
            "Epoch 13/100\n",
            "35/35 [==============================] - 0s 4ms/step - loss: 0.9967 - department_output_loss: 0.6756 - attrition_output_loss: 0.3211 - department_output_accuracy: 0.7015 - attrition_output_accuracy: 0.8730\n",
            "Epoch 14/100\n",
            "35/35 [==============================] - 0s 4ms/step - loss: 0.9743 - department_output_loss: 0.6644 - attrition_output_loss: 0.3099 - department_output_accuracy: 0.6987 - attrition_output_accuracy: 0.8766\n",
            "Epoch 15/100\n",
            "35/35 [==============================] - 0s 4ms/step - loss: 0.9649 - department_output_loss: 0.6581 - attrition_output_loss: 0.3068 - department_output_accuracy: 0.7187 - attrition_output_accuracy: 0.8784\n",
            "Epoch 16/100\n",
            "35/35 [==============================] - 0s 4ms/step - loss: 0.9403 - department_output_loss: 0.6418 - attrition_output_loss: 0.2985 - department_output_accuracy: 0.7250 - attrition_output_accuracy: 0.8811\n",
            "Epoch 17/100\n",
            "35/35 [==============================] - 0s 4ms/step - loss: 0.9178 - department_output_loss: 0.6263 - attrition_output_loss: 0.2915 - department_output_accuracy: 0.7250 - attrition_output_accuracy: 0.8857\n",
            "Epoch 18/100\n",
            "35/35 [==============================] - 0s 4ms/step - loss: 0.9066 - department_output_loss: 0.6219 - attrition_output_loss: 0.2847 - department_output_accuracy: 0.7432 - attrition_output_accuracy: 0.8884\n",
            "Epoch 19/100\n",
            "35/35 [==============================] - 0s 4ms/step - loss: 0.8827 - department_output_loss: 0.6036 - attrition_output_loss: 0.2791 - department_output_accuracy: 0.7441 - attrition_output_accuracy: 0.8875\n",
            "Epoch 20/100\n",
            "35/35 [==============================] - 0s 4ms/step - loss: 0.8633 - department_output_loss: 0.5883 - attrition_output_loss: 0.2749 - department_output_accuracy: 0.7495 - attrition_output_accuracy: 0.8911\n",
            "Epoch 21/100\n",
            "35/35 [==============================] - 0s 4ms/step - loss: 0.8451 - department_output_loss: 0.5729 - attrition_output_loss: 0.2722 - department_output_accuracy: 0.7750 - attrition_output_accuracy: 0.8929\n",
            "Epoch 22/100\n",
            "35/35 [==============================] - 0s 4ms/step - loss: 0.8201 - department_output_loss: 0.5587 - attrition_output_loss: 0.2615 - department_output_accuracy: 0.7831 - attrition_output_accuracy: 0.9020\n",
            "Epoch 23/100\n",
            "35/35 [==============================] - 0s 4ms/step - loss: 0.8159 - department_output_loss: 0.5612 - attrition_output_loss: 0.2547 - department_output_accuracy: 0.7659 - attrition_output_accuracy: 0.9038\n",
            "Epoch 24/100\n",
            "35/35 [==============================] - 0s 4ms/step - loss: 0.8000 - department_output_loss: 0.5504 - attrition_output_loss: 0.2496 - department_output_accuracy: 0.7804 - attrition_output_accuracy: 0.9002\n",
            "Epoch 25/100\n",
            "35/35 [==============================] - 0s 4ms/step - loss: 0.7722 - department_output_loss: 0.5325 - attrition_output_loss: 0.2397 - department_output_accuracy: 0.7922 - attrition_output_accuracy: 0.9093\n",
            "Epoch 26/100\n",
            "35/35 [==============================] - 0s 4ms/step - loss: 0.7589 - department_output_loss: 0.5209 - attrition_output_loss: 0.2381 - department_output_accuracy: 0.7895 - attrition_output_accuracy: 0.9102\n",
            "Epoch 27/100\n",
            "35/35 [==============================] - 0s 4ms/step - loss: 0.7229 - department_output_loss: 0.4916 - attrition_output_loss: 0.2313 - department_output_accuracy: 0.8131 - attrition_output_accuracy: 0.9074\n",
            "Epoch 28/100\n",
            "35/35 [==============================] - 0s 4ms/step - loss: 0.7038 - department_output_loss: 0.4786 - attrition_output_loss: 0.2252 - department_output_accuracy: 0.8094 - attrition_output_accuracy: 0.9147\n",
            "Epoch 29/100\n",
            "35/35 [==============================] - 0s 4ms/step - loss: 0.6965 - department_output_loss: 0.4747 - attrition_output_loss: 0.2219 - department_output_accuracy: 0.8203 - attrition_output_accuracy: 0.9174\n",
            "Epoch 30/100\n",
            "35/35 [==============================] - 0s 4ms/step - loss: 0.6648 - department_output_loss: 0.4522 - attrition_output_loss: 0.2126 - department_output_accuracy: 0.8240 - attrition_output_accuracy: 0.9247\n",
            "Epoch 31/100\n",
            "35/35 [==============================] - 0s 4ms/step - loss: 0.6527 - department_output_loss: 0.4427 - attrition_output_loss: 0.2100 - department_output_accuracy: 0.8303 - attrition_output_accuracy: 0.9192\n",
            "Epoch 32/100\n",
            "35/35 [==============================] - 0s 4ms/step - loss: 0.6315 - department_output_loss: 0.4353 - attrition_output_loss: 0.1962 - department_output_accuracy: 0.8403 - attrition_output_accuracy: 0.9283\n",
            "Epoch 33/100\n",
            "35/35 [==============================] - 0s 4ms/step - loss: 0.6103 - department_output_loss: 0.4135 - attrition_output_loss: 0.1968 - department_output_accuracy: 0.8430 - attrition_output_accuracy: 0.9174\n",
            "Epoch 34/100\n",
            "35/35 [==============================] - 0s 4ms/step - loss: 0.5870 - department_output_loss: 0.3983 - attrition_output_loss: 0.1886 - department_output_accuracy: 0.8448 - attrition_output_accuracy: 0.9356\n",
            "Epoch 35/100\n",
            "35/35 [==============================] - 0s 4ms/step - loss: 0.5692 - department_output_loss: 0.3858 - attrition_output_loss: 0.1834 - department_output_accuracy: 0.8557 - attrition_output_accuracy: 0.9338\n",
            "Epoch 36/100\n",
            "35/35 [==============================] - 0s 4ms/step - loss: 0.5418 - department_output_loss: 0.3643 - attrition_output_loss: 0.1776 - department_output_accuracy: 0.8702 - attrition_output_accuracy: 0.9374\n",
            "Epoch 37/100\n",
            "35/35 [==============================] - 0s 4ms/step - loss: 0.5271 - department_output_loss: 0.3592 - attrition_output_loss: 0.1679 - department_output_accuracy: 0.8630 - attrition_output_accuracy: 0.9374\n",
            "Epoch 38/100\n",
            "35/35 [==============================] - 0s 4ms/step - loss: 0.5105 - department_output_loss: 0.3491 - attrition_output_loss: 0.1614 - department_output_accuracy: 0.8721 - attrition_output_accuracy: 0.9419\n",
            "Epoch 39/100\n",
            "35/35 [==============================] - 0s 4ms/step - loss: 0.4922 - department_output_loss: 0.3369 - attrition_output_loss: 0.1554 - department_output_accuracy: 0.8838 - attrition_output_accuracy: 0.9437\n",
            "Epoch 40/100\n",
            "35/35 [==============================] - 0s 4ms/step - loss: 0.4824 - department_output_loss: 0.3248 - attrition_output_loss: 0.1576 - department_output_accuracy: 0.8802 - attrition_output_accuracy: 0.9446\n",
            "Epoch 41/100\n",
            "35/35 [==============================] - 0s 4ms/step - loss: 0.4613 - department_output_loss: 0.3134 - attrition_output_loss: 0.1479 - department_output_accuracy: 0.8893 - attrition_output_accuracy: 0.9456\n",
            "Epoch 42/100\n",
            "35/35 [==============================] - 0s 4ms/step - loss: 0.4294 - department_output_loss: 0.2859 - attrition_output_loss: 0.1435 - department_output_accuracy: 0.9038 - attrition_output_accuracy: 0.9446\n",
            "Epoch 43/100\n",
            "35/35 [==============================] - 0s 4ms/step - loss: 0.4245 - department_output_loss: 0.2867 - attrition_output_loss: 0.1378 - department_output_accuracy: 0.9083 - attrition_output_accuracy: 0.9492\n",
            "Epoch 44/100\n",
            "35/35 [==============================] - 0s 4ms/step - loss: 0.4012 - department_output_loss: 0.2701 - attrition_output_loss: 0.1311 - department_output_accuracy: 0.9093 - attrition_output_accuracy: 0.9519\n",
            "Epoch 45/100\n",
            "35/35 [==============================] - 0s 4ms/step - loss: 0.3808 - department_output_loss: 0.2566 - attrition_output_loss: 0.1243 - department_output_accuracy: 0.9138 - attrition_output_accuracy: 0.9564\n",
            "Epoch 46/100\n",
            "35/35 [==============================] - 0s 4ms/step - loss: 0.3789 - department_output_loss: 0.2533 - attrition_output_loss: 0.1256 - department_output_accuracy: 0.9211 - attrition_output_accuracy: 0.9519\n",
            "Epoch 47/100\n",
            "35/35 [==============================] - 0s 4ms/step - loss: 0.3686 - department_output_loss: 0.2427 - attrition_output_loss: 0.1259 - department_output_accuracy: 0.9238 - attrition_output_accuracy: 0.9555\n",
            "Epoch 48/100\n",
            "35/35 [==============================] - 0s 4ms/step - loss: 0.3471 - department_output_loss: 0.2264 - attrition_output_loss: 0.1207 - department_output_accuracy: 0.9338 - attrition_output_accuracy: 0.9510\n",
            "Epoch 49/100\n",
            "35/35 [==============================] - 0s 4ms/step - loss: 0.3218 - department_output_loss: 0.2105 - attrition_output_loss: 0.1113 - department_output_accuracy: 0.9356 - attrition_output_accuracy: 0.9601\n",
            "Epoch 50/100\n",
            "35/35 [==============================] - 0s 4ms/step - loss: 0.3051 - department_output_loss: 0.2001 - attrition_output_loss: 0.1049 - department_output_accuracy: 0.9410 - attrition_output_accuracy: 0.9628\n",
            "Epoch 51/100\n",
            "35/35 [==============================] - 0s 4ms/step - loss: 0.2959 - department_output_loss: 0.1963 - attrition_output_loss: 0.0995 - department_output_accuracy: 0.9501 - attrition_output_accuracy: 0.9646\n",
            "Epoch 52/100\n",
            "35/35 [==============================] - 0s 4ms/step - loss: 0.3124 - department_output_loss: 0.2138 - attrition_output_loss: 0.0986 - department_output_accuracy: 0.9319 - attrition_output_accuracy: 0.9682\n",
            "Epoch 53/100\n",
            "35/35 [==============================] - 0s 4ms/step - loss: 0.3119 - department_output_loss: 0.2243 - attrition_output_loss: 0.0877 - department_output_accuracy: 0.9229 - attrition_output_accuracy: 0.9755\n",
            "Epoch 54/100\n",
            "35/35 [==============================] - 0s 4ms/step - loss: 0.2833 - department_output_loss: 0.1947 - attrition_output_loss: 0.0886 - department_output_accuracy: 0.9392 - attrition_output_accuracy: 0.9737\n",
            "Epoch 55/100\n",
            "35/35 [==============================] - 0s 4ms/step - loss: 0.2460 - department_output_loss: 0.1649 - attrition_output_loss: 0.0810 - department_output_accuracy: 0.9610 - attrition_output_accuracy: 0.9764\n",
            "Epoch 56/100\n",
            "35/35 [==============================] - 0s 4ms/step - loss: 0.2407 - department_output_loss: 0.1635 - attrition_output_loss: 0.0772 - department_output_accuracy: 0.9610 - attrition_output_accuracy: 0.9773\n",
            "Epoch 57/100\n",
            "35/35 [==============================] - 0s 4ms/step - loss: 0.2228 - department_output_loss: 0.1463 - attrition_output_loss: 0.0766 - department_output_accuracy: 0.9673 - attrition_output_accuracy: 0.9746\n",
            "Epoch 58/100\n",
            "35/35 [==============================] - 0s 4ms/step - loss: 0.2194 - department_output_loss: 0.1406 - attrition_output_loss: 0.0788 - department_output_accuracy: 0.9710 - attrition_output_accuracy: 0.9764\n",
            "Epoch 59/100\n",
            "35/35 [==============================] - 0s 4ms/step - loss: 0.2076 - department_output_loss: 0.1376 - attrition_output_loss: 0.0700 - department_output_accuracy: 0.9664 - attrition_output_accuracy: 0.9828\n",
            "Epoch 60/100\n",
            "35/35 [==============================] - 0s 4ms/step - loss: 0.1993 - department_output_loss: 0.1330 - attrition_output_loss: 0.0663 - department_output_accuracy: 0.9691 - attrition_output_accuracy: 0.9837\n",
            "Epoch 61/100\n",
            "35/35 [==============================] - 0s 4ms/step - loss: 0.1968 - department_output_loss: 0.1291 - attrition_output_loss: 0.0677 - department_output_accuracy: 0.9710 - attrition_output_accuracy: 0.9809\n",
            "Epoch 62/100\n",
            "35/35 [==============================] - 0s 4ms/step - loss: 0.1825 - department_output_loss: 0.1240 - attrition_output_loss: 0.0585 - department_output_accuracy: 0.9719 - attrition_output_accuracy: 0.9846\n",
            "Epoch 63/100\n",
            "35/35 [==============================] - 0s 4ms/step - loss: 0.1718 - department_output_loss: 0.1110 - attrition_output_loss: 0.0607 - department_output_accuracy: 0.9819 - attrition_output_accuracy: 0.9819\n",
            "Epoch 64/100\n",
            "35/35 [==============================] - 0s 4ms/step - loss: 0.1564 - department_output_loss: 0.1070 - attrition_output_loss: 0.0495 - department_output_accuracy: 0.9782 - attrition_output_accuracy: 0.9900\n",
            "Epoch 65/100\n",
            "35/35 [==============================] - 0s 4ms/step - loss: 0.1554 - department_output_loss: 0.1027 - attrition_output_loss: 0.0528 - department_output_accuracy: 0.9746 - attrition_output_accuracy: 0.9882\n",
            "Epoch 66/100\n",
            "35/35 [==============================] - 0s 4ms/step - loss: 0.1521 - department_output_loss: 0.1005 - attrition_output_loss: 0.0517 - department_output_accuracy: 0.9782 - attrition_output_accuracy: 0.9900\n",
            "Epoch 67/100\n",
            "35/35 [==============================] - 0s 4ms/step - loss: 0.1549 - department_output_loss: 0.0907 - attrition_output_loss: 0.0642 - department_output_accuracy: 0.9900 - attrition_output_accuracy: 0.9782\n",
            "Epoch 68/100\n",
            "35/35 [==============================] - 0s 4ms/step - loss: 0.1590 - department_output_loss: 0.0950 - attrition_output_loss: 0.0640 - department_output_accuracy: 0.9828 - attrition_output_accuracy: 0.9791\n",
            "Epoch 69/100\n",
            "35/35 [==============================] - 0s 4ms/step - loss: 0.1329 - department_output_loss: 0.0866 - attrition_output_loss: 0.0464 - department_output_accuracy: 0.9828 - attrition_output_accuracy: 0.9900\n",
            "Epoch 70/100\n",
            "35/35 [==============================] - 0s 4ms/step - loss: 0.1234 - department_output_loss: 0.0826 - attrition_output_loss: 0.0408 - department_output_accuracy: 0.9846 - attrition_output_accuracy: 0.9936\n",
            "Epoch 71/100\n",
            "35/35 [==============================] - 0s 4ms/step - loss: 0.1139 - department_output_loss: 0.0772 - attrition_output_loss: 0.0367 - department_output_accuracy: 0.9873 - attrition_output_accuracy: 0.9936\n",
            "Epoch 72/100\n",
            "35/35 [==============================] - 0s 4ms/step - loss: 0.1073 - department_output_loss: 0.0706 - attrition_output_loss: 0.0367 - department_output_accuracy: 0.9918 - attrition_output_accuracy: 0.9936\n",
            "Epoch 73/100\n",
            "35/35 [==============================] - 0s 4ms/step - loss: 0.0998 - department_output_loss: 0.0671 - attrition_output_loss: 0.0328 - department_output_accuracy: 0.9900 - attrition_output_accuracy: 0.9936\n",
            "Epoch 74/100\n",
            "35/35 [==============================] - 0s 4ms/step - loss: 0.1041 - department_output_loss: 0.0682 - attrition_output_loss: 0.0359 - department_output_accuracy: 0.9918 - attrition_output_accuracy: 0.9955\n",
            "Epoch 75/100\n",
            "35/35 [==============================] - 0s 4ms/step - loss: 0.0979 - department_output_loss: 0.0636 - attrition_output_loss: 0.0343 - department_output_accuracy: 0.9936 - attrition_output_accuracy: 0.9936\n",
            "Epoch 76/100\n",
            "35/35 [==============================] - 0s 4ms/step - loss: 0.0928 - department_output_loss: 0.0601 - attrition_output_loss: 0.0327 - department_output_accuracy: 0.9909 - attrition_output_accuracy: 0.9936\n",
            "Epoch 77/100\n",
            "35/35 [==============================] - 0s 4ms/step - loss: 0.0879 - department_output_loss: 0.0602 - attrition_output_loss: 0.0277 - department_output_accuracy: 0.9909 - attrition_output_accuracy: 0.9946\n",
            "Epoch 78/100\n",
            "35/35 [==============================] - 0s 4ms/step - loss: 0.0898 - department_output_loss: 0.0621 - attrition_output_loss: 0.0277 - department_output_accuracy: 0.9891 - attrition_output_accuracy: 0.9964\n",
            "Epoch 79/100\n",
            "35/35 [==============================] - 0s 4ms/step - loss: 0.0889 - department_output_loss: 0.0628 - attrition_output_loss: 0.0261 - department_output_accuracy: 0.9900 - attrition_output_accuracy: 0.9964\n",
            "Epoch 80/100\n",
            "35/35 [==============================] - 0s 4ms/step - loss: 0.0755 - department_output_loss: 0.0503 - attrition_output_loss: 0.0252 - department_output_accuracy: 0.9936 - attrition_output_accuracy: 0.9946\n",
            "Epoch 81/100\n",
            "35/35 [==============================] - 0s 4ms/step - loss: 0.0734 - department_output_loss: 0.0473 - attrition_output_loss: 0.0261 - department_output_accuracy: 0.9946 - attrition_output_accuracy: 0.9936\n",
            "Epoch 82/100\n",
            "35/35 [==============================] - 0s 4ms/step - loss: 0.0664 - department_output_loss: 0.0424 - attrition_output_loss: 0.0240 - department_output_accuracy: 0.9964 - attrition_output_accuracy: 0.9964\n",
            "Epoch 83/100\n",
            "35/35 [==============================] - 0s 4ms/step - loss: 0.0638 - department_output_loss: 0.0410 - attrition_output_loss: 0.0228 - department_output_accuracy: 0.9991 - attrition_output_accuracy: 0.9955\n",
            "Epoch 84/100\n",
            "35/35 [==============================] - 0s 4ms/step - loss: 0.0656 - department_output_loss: 0.0435 - attrition_output_loss: 0.0220 - department_output_accuracy: 0.9955 - attrition_output_accuracy: 0.9955\n",
            "Epoch 85/100\n",
            "35/35 [==============================] - 0s 4ms/step - loss: 0.0597 - department_output_loss: 0.0389 - attrition_output_loss: 0.0208 - department_output_accuracy: 0.9991 - attrition_output_accuracy: 0.9964\n",
            "Epoch 86/100\n",
            "35/35 [==============================] - 0s 4ms/step - loss: 0.0600 - department_output_loss: 0.0365 - attrition_output_loss: 0.0235 - department_output_accuracy: 0.9991 - attrition_output_accuracy: 0.9964\n",
            "Epoch 87/100\n",
            "35/35 [==============================] - 0s 4ms/step - loss: 0.0543 - department_output_loss: 0.0362 - attrition_output_loss: 0.0181 - department_output_accuracy: 0.9973 - attrition_output_accuracy: 0.9973\n",
            "Epoch 88/100\n",
            "35/35 [==============================] - 0s 4ms/step - loss: 0.0546 - department_output_loss: 0.0358 - attrition_output_loss: 0.0188 - department_output_accuracy: 0.9964 - attrition_output_accuracy: 0.9964\n",
            "Epoch 89/100\n",
            "35/35 [==============================] - 0s 4ms/step - loss: 0.0577 - department_output_loss: 0.0401 - attrition_output_loss: 0.0176 - department_output_accuracy: 0.9955 - attrition_output_accuracy: 0.9964\n",
            "Epoch 90/100\n",
            "35/35 [==============================] - 0s 4ms/step - loss: 0.0561 - department_output_loss: 0.0405 - attrition_output_loss: 0.0156 - department_output_accuracy: 0.9946 - attrition_output_accuracy: 0.9973\n",
            "Epoch 91/100\n",
            "35/35 [==============================] - 0s 4ms/step - loss: 0.0540 - department_output_loss: 0.0392 - attrition_output_loss: 0.0148 - department_output_accuracy: 0.9955 - attrition_output_accuracy: 0.9991\n",
            "Epoch 92/100\n",
            "35/35 [==============================] - 0s 4ms/step - loss: 0.0429 - department_output_loss: 0.0290 - attrition_output_loss: 0.0140 - department_output_accuracy: 1.0000 - attrition_output_accuracy: 0.9973\n",
            "Epoch 93/100\n",
            "35/35 [==============================] - 0s 4ms/step - loss: 0.0417 - department_output_loss: 0.0274 - attrition_output_loss: 0.0143 - department_output_accuracy: 1.0000 - attrition_output_accuracy: 0.9982\n",
            "Epoch 94/100\n",
            "35/35 [==============================] - 0s 4ms/step - loss: 0.0453 - department_output_loss: 0.0287 - attrition_output_loss: 0.0166 - department_output_accuracy: 0.9991 - attrition_output_accuracy: 0.9973\n",
            "Epoch 95/100\n",
            "35/35 [==============================] - 0s 4ms/step - loss: 0.0434 - department_output_loss: 0.0268 - attrition_output_loss: 0.0167 - department_output_accuracy: 0.9964 - attrition_output_accuracy: 0.9964\n",
            "Epoch 96/100\n",
            "35/35 [==============================] - 0s 4ms/step - loss: 0.0391 - department_output_loss: 0.0229 - attrition_output_loss: 0.0163 - department_output_accuracy: 0.9991 - attrition_output_accuracy: 0.9973\n",
            "Epoch 97/100\n",
            "35/35 [==============================] - 0s 4ms/step - loss: 0.0351 - department_output_loss: 0.0228 - attrition_output_loss: 0.0123 - department_output_accuracy: 1.0000 - attrition_output_accuracy: 0.9991\n",
            "Epoch 98/100\n",
            "35/35 [==============================] - 0s 4ms/step - loss: 0.0340 - department_output_loss: 0.0215 - attrition_output_loss: 0.0125 - department_output_accuracy: 0.9982 - attrition_output_accuracy: 0.9973\n",
            "Epoch 99/100\n",
            "35/35 [==============================] - 0s 4ms/step - loss: 0.0358 - department_output_loss: 0.0236 - attrition_output_loss: 0.0122 - department_output_accuracy: 0.9964 - attrition_output_accuracy: 0.9973\n",
            "Epoch 100/100\n",
            "35/35 [==============================] - 0s 4ms/step - loss: 0.0447 - department_output_loss: 0.0290 - attrition_output_loss: 0.0157 - department_output_accuracy: 0.9946 - attrition_output_accuracy: 0.9955\n"
          ]
        }
      ],
      "source": [
        "# Train the model\n",
        "train_history = model.fit(\n",
        "    X_train_scaled, {'department_output': y_train_department, 'attrition_output': y_train_attrition},\n",
        "    epochs=100)"
      ]
    },
    {
      "cell_type": "code",
      "execution_count": 195,
      "metadata": {
        "colab": {
          "base_uri": "https://localhost:8080/"
        },
        "id": "VsMoaQlgGc3U",
        "outputId": "1bd4e601-e964-4abc-ad83-aeecf6b696be"
      },
      "outputs": [
        {
          "name": "stdout",
          "output_type": "stream",
          "text": [
            "12/12 [==============================] - 0s 3ms/step - loss: 4.1522 - department_output_loss: 3.0692 - attrition_output_loss: 1.0830 - department_output_accuracy: 0.5598 - attrition_output_accuracy: 0.8152\n"
          ]
        }
      ],
      "source": [
        "# Evaluate the model with the testing data\n",
        "loss, department_loss, attrition_loss, department_accuracy, attrition_accuracy = \\\n",
        "    model.evaluate(X_test_scaled, {'department_output': y_test_department,\n",
        "                    'attrition_output': y_test_attrition})"
      ]
    },
    {
      "cell_type": "code",
      "execution_count": 196,
      "metadata": {
        "colab": {
          "base_uri": "https://localhost:8080/"
        },
        "id": "ZlCtlHi0Vt54",
        "outputId": "bc21ef3e-80c2-4b38-9c29-79515bc23dec"
      },
      "outputs": [
        {
          "name": "stdout",
          "output_type": "stream",
          "text": [
            "Department predictions accuracy: 0.5597826242446899\n",
            "Attrition predictions accuracy: 0.8152173757553101\n"
          ]
        }
      ],
      "source": [
        "# Print the accuracy for both department and attrition\n",
        "print(f'Department predictions accuracy: {department_accuracy}')\n",
        "print(f'Attrition predictions accuracy: {attrition_accuracy}')"
      ]
    },
    {
      "cell_type": "markdown",
      "metadata": {
        "id": "eGSyfsZfWOQM"
      },
      "source": [
        "# Summary\n",
        "\n",
        "In the provided space below, briefly answer the following questions.\n",
        "\n",
        "1. Is accuracy the best metric to use on this data? Why or why not?\n",
        "\n",
        "2. What activation functions did you choose for your output layers, and why?\n",
        "\n",
        "3. Can you name a few ways that this model might be improved?"
      ]
    },
    {
      "cell_type": "markdown",
      "metadata": {
        "id": "pi9SLpFnWvbF"
      },
      "source": [
        "YOUR ANSWERS HERE\n",
        "\n",
        "1. No because the business angle for predicting attrition is that a company might want to identify employees at risk of leaving, and potentially intervene in some way to retain those employees. With that being the overarching goal, accuracy does not tell us what's actually important. As I demonstrate in the next cell, this model had 82% overall accuracy in predicting attrition, but it only had 40% recall. Recall is the ratio of true positive predictions to all positives in the ground truth. That means that out of the employees who left, the model was only able to correctly identify 40% of them. That might be an acceptable amount, but more importantly it gives a better idea of how useful the model would be for our goals.\n",
        "\n",
        "    Given that the full dataset is 84% employees who didn't leave, hypothetically a *very* bad model could predict that all employees stay, and still have 84% accuracy. We wouldn't understand how bad the model actually is until we saw that it had 0% recall.\n",
        "2. I chose softmax for department because there are 3 mutually exclusive departments to predict, and softmax is suited for multi-class predictions. For attrition, I chose sigmoid because attrition is binary (left the company or didn't), and sigmoid is better suited for binary predictions, as it outputs a single number between 0 and 1.\n",
        "3.  - More data\n",
        "    - Balancing the data across the target variables prior to fitting (especially if there is more data)\n",
        "    - Increasing the quantity of nodes and layers\n",
        "    - Implementing checkpoints `tf.keras.callbacks.ModelCheckpoint()` and configuring it to save the weights of the best validation recall score during fitting. "
      ]
    },
    {
      "cell_type": "code",
      "execution_count": 197,
      "metadata": {},
      "outputs": [
        {
          "name": "stdout",
          "output_type": "stream",
          "text": [
            "              precision    recall  f1-score   support\n",
            "\n",
            "         0.0       0.91      0.88      0.89       320\n",
            "         1.0       0.33      0.40      0.36        48\n",
            "\n",
            "    accuracy                           0.82       368\n",
            "   macro avg       0.62      0.64      0.63       368\n",
            "weighted avg       0.83      0.82      0.82       368\n",
            "\n"
          ]
        }
      ],
      "source": [
        "from sklearn.metrics import classification_report\n",
        "\n",
        "department_preds, attrition_preds = model.predict(X_test_scaled)\n",
        "\n",
        "print(classification_report(y_test_attrition, attrition_preds.round()))"
      ]
    },
    {
      "cell_type": "markdown",
      "metadata": {},
      "source": []
    }
  ],
  "metadata": {
    "colab": {
      "provenance": []
    },
    "kernelspec": {
      "display_name": "Python 3",
      "language": "python",
      "name": "python3"
    },
    "language_info": {
      "codemirror_mode": {
        "name": "ipython",
        "version": 3
      },
      "file_extension": ".py",
      "mimetype": "text/x-python",
      "name": "python",
      "nbconvert_exporter": "python",
      "pygments_lexer": "ipython3",
      "version": "3.9.18"
    },
    "vscode": {
      "interpreter": {
        "hash": "31f2aee4e71d21fbe5cf8b01ff0e069b9275f58929596ceb00d14d90e3e16cd6"
      }
    }
  },
  "nbformat": 4,
  "nbformat_minor": 0
}
